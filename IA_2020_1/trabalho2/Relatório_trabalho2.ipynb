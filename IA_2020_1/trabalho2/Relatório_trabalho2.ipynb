{
  "nbformat": 4,
  "nbformat_minor": 0,
  "metadata": {
    "colab": {
      "name": "trabalho2.ipynb",
      "provenance": [],
      "collapsed_sections": [],
      "toc_visible": true
    },
    "kernelspec": {
      "name": "python3",
      "display_name": "Python 3"
    }
  },
  "cells": [
    {
      "cell_type": "markdown",
      "metadata": {
        "id": "DZFm5JOXIrED"
      },
      "source": [
        "# Projeto Kmeans\n",
        "\n",
        "\n",
        "Este projeto consiste na execução e validação do algoritmo de aprendizado não supervisionado para\n",
        "agrupamento (K-means) estudado na disciplina de Inteligência Artificial, ministrada pela Prof.ª Dr.ª Heloisa de Arruda Camargo.  \n",
        "\n",
        "\n",  
        
        
        "\n",
        "________________\n",
        "\n",
        "\n",
        "\n",
        "______________\n",
        "\n",
        "## Conjunto de Dados\n",
        "\n",
        "Nós usamos nas duas etapas do projeto um conjunto de dados chamado diagnosis.data com 8 variáveis, encontrado no repositório UCI: https://archive.ics.uci.edu/ml/datasets/Acute+Inflammations\n",
        "\n",
        "\n",
        "* Temperature of patient {36C - 42C}\n",
        "* Ocurrence of nausea  {yes - no}\n",
        "* Lumbar pain  {yes - no}\n",
        "* Lrine pushing  {yes - no}\n",
        "* Micturition pains  {yes - no}\n",
        "* Burning of urethra  {yes - no}\n",
        "* Inflammation of urinary bladder  {yes - no}\n",
        "* Nephritis of renal pelvis origin  {yes - no}\n",
        "\n",
        "Os atributos representam sintomas de pacientes que resultam em dois diagnósticos, Inflammation of urinary bladder e Nephritis of renal pelvis origin,resolvemos usar o diagnóstico  'Nephritis of renal pelvis origin' como atributo-meta.\n",
        "\n",
        "Após isso executamos 2 etapas:\n",
        "> Parte 1 - Validação com índice externo (Adusted Rand Index)\n",
        "\n",
        "> Parte 2 - Determinação do melhor número de grupos usando a soma quadrática das distâncias com índice interno (Método do \"cotovelo\")\n"
      ]
    },
    {
      "cell_type": "markdown",
      "metadata": {
        "id": "k9vcENMGxyEs"
      },
      "source": [
        ""
      ]
    },
    {
      "cell_type": "markdown",
      "metadata": {
        "id": "akT8yZ3JA_DC"
      },
      "source": [
        "## Importação das bibliotecas"
      ]
    },
    {
      "cell_type": "code",
      "metadata": {
        "id": "mO9DjN91wEft"
      },
      "source": [
        "import pandas as pd\n",
        "import matplotlib.pyplot as plt\n",
        "from sklearn.metrics import adjusted_rand_score \n",
        "from sklearn.preprocessing import MinMaxScaler \n",
        "from sklearn.cluster import KMeans\n"
      ],
      "execution_count": null,
      "outputs": []
    },
    {
      "cell_type": "markdown",
      "metadata": {
        "id": "e4rIw97-B2fV"
      },
      "source": [
        "##  Parte 1 -  Validação com índice externo (Adusted Rand Index)"
      ]
    },
    {
      "cell_type": "markdown",
      "metadata": {
        "id": "1W-7lSeqCK6R"
      },
      "source": [
        "**Lendo o conjunto de dados diagnosis.data com a função read.csv() e mostrando as 5 primeiras linhas com .head()**\n"
      ]
    },
    {
      "cell_type": "code",
      "metadata": {
        "id": "DbF_7eMGChhh",
        "outputId": "390a5198-9ba1-40d2-ad06-eae5ecbf9b30",
        "colab": {
          "base_uri": "https://localhost:8080/",
          "height": 241
        }
      },
      "source": [
        "df = pd.read_csv(\"diagnosis.data\",\n",
        "                 names=['Temperature', 'Nausea', 'Lumbar pain', 'Urine pushing', 'Micturition pains','Burning of urethra', 'Inflammation of urinary bladder', 'Nephritis of renal pelvis origin'],\n",
        "                 encoding='utf-16')\n",
        "df.head()\n"
      ],
      "execution_count": null,
      "outputs": [
        {
          "output_type": "execute_result",
          "data": {
            "text/html": [
              "<div>\n",
              "<style scoped>\n",
              "    .dataframe tbody tr th:only-of-type {\n",
              "        vertical-align: middle;\n",
              "    }\n",
              "\n",
              "    .dataframe tbody tr th {\n",
              "        vertical-align: top;\n",
              "    }\n",
              "\n",
              "    .dataframe thead th {\n",
              "        text-align: right;\n",
              "    }\n",
              "</style>\n",
              "<table border=\"1\" class=\"dataframe\">\n",
              "  <thead>\n",
              "    <tr style=\"text-align: right;\">\n",
              "      <th></th>\n",
              "      <th>Temperature</th>\n",
              "      <th>Nausea</th>\n",
              "      <th>Lumbar pain</th>\n",
              "      <th>Urine pushing</th>\n",
              "      <th>Micturition pains</th>\n",
              "      <th>Burning of urethra</th>\n",
              "      <th>Inflammation of urinary bladder</th>\n",
              "      <th>Nephritis of renal pelvis origin</th>\n",
              "    </tr>\n",
              "  </thead>\n",
              "  <tbody>\n",
              "    <tr>\n",
              "      <th>0</th>\n",
              "      <td>35.5</td>\n",
              "      <td>no</td>\n",
              "      <td>yes</td>\n",
              "      <td>no</td>\n",
              "      <td>no</td>\n",
              "      <td>no</td>\n",
              "      <td>no</td>\n",
              "      <td>no</td>\n",
              "    </tr>\n",
              "    <tr>\n",
              "      <th>1</th>\n",
              "      <td>35.9</td>\n",
              "      <td>no</td>\n",
              "      <td>no</td>\n",
              "      <td>yes</td>\n",
              "      <td>yes</td>\n",
              "      <td>yes</td>\n",
              "      <td>yes</td>\n",
              "      <td>no</td>\n",
              "    </tr>\n",
              "    <tr>\n",
              "      <th>2</th>\n",
              "      <td>35.9</td>\n",
              "      <td>no</td>\n",
              "      <td>yes</td>\n",
              "      <td>no</td>\n",
              "      <td>no</td>\n",
              "      <td>no</td>\n",
              "      <td>no</td>\n",
              "      <td>no</td>\n",
              "    </tr>\n",
              "    <tr>\n",
              "      <th>3</th>\n",
              "      <td>36.0</td>\n",
              "      <td>no</td>\n",
              "      <td>no</td>\n",
              "      <td>yes</td>\n",
              "      <td>yes</td>\n",
              "      <td>yes</td>\n",
              "      <td>yes</td>\n",
              "      <td>no</td>\n",
              "    </tr>\n",
              "    <tr>\n",
              "      <th>4</th>\n",
              "      <td>36.0</td>\n",
              "      <td>no</td>\n",
              "      <td>yes</td>\n",
              "      <td>no</td>\n",
              "      <td>no</td>\n",
              "      <td>no</td>\n",
              "      <td>no</td>\n",
              "      <td>no</td>\n",
              "    </tr>\n",
              "  </tbody>\n",
              "</table>\n",
              "</div>"
            ],
            "text/plain": [
              "   Temperature  ... Nephritis of renal pelvis origin\n",
              "0         35.5  ...                               no\n",
              "1         35.9  ...                               no\n",
              "2         35.9  ...                               no\n",
              "3         36.0  ...                               no\n",
              "4         36.0  ...                               no\n",
              "\n",
              "[5 rows x 8 columns]"
            ]
          },
          "metadata": {
            "tags": []
          },
          "execution_count": 4
        }
      ]
    },
    {
      "cell_type": "markdown",
      "metadata": {
        "id": "fUrXko92C0qg"
      },
      "source": [
        "**Criando outra tabela de dados retirando as colunas refente as classes**"
      ]
    },
    {
      "cell_type": "code",
      "metadata": {
        "id": "tF-1PZn_C4Nc",
        "outputId": "40baba9d-1110-4fe1-8e6c-c90d58e76384",
        "colab": {
          "base_uri": "https://localhost:8080/",
          "height": 424
        }
      },
      "source": [
        "new_df = df.drop(['Nephritis of renal pelvis origin', 'Inflammation of urinary bladder'], axis=1)\n",
        "\n",
        "new_df"
      ],
      "execution_count": null,
      "outputs": [
        {
          "output_type": "execute_result",
          "data": {
            "text/html": [
              "<div>\n",
              "<style scoped>\n",
              "    .dataframe tbody tr th:only-of-type {\n",
              "        vertical-align: middle;\n",
              "    }\n",
              "\n",
              "    .dataframe tbody tr th {\n",
              "        vertical-align: top;\n",
              "    }\n",
              "\n",
              "    .dataframe thead th {\n",
              "        text-align: right;\n",
              "    }\n",
              "</style>\n",
              "<table border=\"1\" class=\"dataframe\">\n",
              "  <thead>\n",
              "    <tr style=\"text-align: right;\">\n",
              "      <th></th>\n",
              "      <th>Temperature</th>\n",
              "      <th>Nausea</th>\n",
              "      <th>Lumbar pain</th>\n",
              "      <th>Urine pushing</th>\n",
              "      <th>Micturition pains</th>\n",
              "      <th>Burning of urethra</th>\n",
              "    </tr>\n",
              "  </thead>\n",
              "  <tbody>\n",
              "    <tr>\n",
              "      <th>0</th>\n",
              "      <td>35.5</td>\n",
              "      <td>no</td>\n",
              "      <td>yes</td>\n",
              "      <td>no</td>\n",
              "      <td>no</td>\n",
              "      <td>no</td>\n",
              "    </tr>\n",
              "    <tr>\n",
              "      <th>1</th>\n",
              "      <td>35.9</td>\n",
              "      <td>no</td>\n",
              "      <td>no</td>\n",
              "      <td>yes</td>\n",
              "      <td>yes</td>\n",
              "      <td>yes</td>\n",
              "    </tr>\n",
              "    <tr>\n",
              "      <th>2</th>\n",
              "      <td>35.9</td>\n",
              "      <td>no</td>\n",
              "      <td>yes</td>\n",
              "      <td>no</td>\n",
              "      <td>no</td>\n",
              "      <td>no</td>\n",
              "    </tr>\n",
              "    <tr>\n",
              "      <th>3</th>\n",
              "      <td>36.0</td>\n",
              "      <td>no</td>\n",
              "      <td>no</td>\n",
              "      <td>yes</td>\n",
              "      <td>yes</td>\n",
              "      <td>yes</td>\n",
              "    </tr>\n",
              "    <tr>\n",
              "      <th>4</th>\n",
              "      <td>36.0</td>\n",
              "      <td>no</td>\n",
              "      <td>yes</td>\n",
              "      <td>no</td>\n",
              "      <td>no</td>\n",
              "      <td>no</td>\n",
              "    </tr>\n",
              "    <tr>\n",
              "      <th>...</th>\n",
              "      <td>...</td>\n",
              "      <td>...</td>\n",
              "      <td>...</td>\n",
              "      <td>...</td>\n",
              "      <td>...</td>\n",
              "      <td>...</td>\n",
              "    </tr>\n",
              "    <tr>\n",
              "      <th>115</th>\n",
              "      <td>41.4</td>\n",
              "      <td>no</td>\n",
              "      <td>yes</td>\n",
              "      <td>yes</td>\n",
              "      <td>no</td>\n",
              "      <td>yes</td>\n",
              "    </tr>\n",
              "    <tr>\n",
              "      <th>116</th>\n",
              "      <td>41.5</td>\n",
              "      <td>no</td>\n",
              "      <td>no</td>\n",
              "      <td>no</td>\n",
              "      <td>no</td>\n",
              "      <td>no</td>\n",
              "    </tr>\n",
              "    <tr>\n",
              "      <th>117</th>\n",
              "      <td>41.5</td>\n",
              "      <td>yes</td>\n",
              "      <td>yes</td>\n",
              "      <td>no</td>\n",
              "      <td>yes</td>\n",
              "      <td>no</td>\n",
              "    </tr>\n",
              "    <tr>\n",
              "      <th>118</th>\n",
              "      <td>41.5</td>\n",
              "      <td>no</td>\n",
              "      <td>yes</td>\n",
              "      <td>yes</td>\n",
              "      <td>no</td>\n",
              "      <td>yes</td>\n",
              "    </tr>\n",
              "    <tr>\n",
              "      <th>119</th>\n",
              "      <td>41.5</td>\n",
              "      <td>no</td>\n",
              "      <td>yes</td>\n",
              "      <td>yes</td>\n",
              "      <td>no</td>\n",
              "      <td>yes</td>\n",
              "    </tr>\n",
              "  </tbody>\n",
              "</table>\n",
              "<p>120 rows × 6 columns</p>\n",
              "</div>"
            ],
            "text/plain": [
              "     Temperature Nausea  ... Micturition pains Burning of urethra\n",
              "0           35.5     no  ...                no                 no\n",
              "1           35.9     no  ...               yes                yes\n",
              "2           35.9     no  ...                no                 no\n",
              "3           36.0     no  ...               yes                yes\n",
              "4           36.0     no  ...                no                 no\n",
              "..           ...    ...  ...               ...                ...\n",
              "115         41.4     no  ...                no                yes\n",
              "116         41.5     no  ...                no                 no\n",
              "117         41.5    yes  ...               yes                 no\n",
              "118         41.5     no  ...                no                yes\n",
              "119         41.5     no  ...                no                yes\n",
              "\n",
              "[120 rows x 6 columns]"
            ]
          },
          "metadata": {
            "tags": []
          },
          "execution_count": 5
        }
      ]
    },
    {
      "cell_type": "markdown",
      "metadata": {
        "id": "Nmd-cJ-iDL6Z"
      },
      "source": [
        "**Transformando atributos nominais**"
      ]
    },
    {
      "cell_type": "code",
      "metadata": {
        "id": "hq0TRFCrDZmG"
      },
      "source": [
        "# separando em duas listas pra poder transformar os atributos nominais\n",
        "categorical_features= ['Nausea', 'Lumbar pain', 'Urine pushing', 'Micturition pains','Burning of urethra']\n",
        "continuous_features= ['Temperature']"
      ],
      "execution_count": null,
      "outputs": []
    },
    {
      "cell_type": "code",
      "metadata": {
        "id": "vqSnZk3HDgf6",
        "outputId": "44e57984-6649-4ee5-a422-dd40034fb8f5",
        "colab": {
          "base_uri": "https://localhost:8080/",
          "height": 244
        }
      },
      "source": [
        "#transformando os atributos nominais em binario\n",
        "for col in categorical_features:\n",
        "  dummies= pd.get_dummies(new_df[col], prefix=col)\n",
        "  new_df = pd.concat([new_df, dummies], axis=1)\n",
        "  new_df.drop(col, axis=1, inplace=True)\n",
        "new_df.head()"
      ],
      "execution_count": null,
      "outputs": [
        {
          "output_type": "execute_result",
          "data": {
            "text/html": [
              "<div>\n",
              "<style scoped>\n",
              "    .dataframe tbody tr th:only-of-type {\n",
              "        vertical-align: middle;\n",
              "    }\n",
              "\n",
              "    .dataframe tbody tr th {\n",
              "        vertical-align: top;\n",
              "    }\n",
              "\n",
              "    .dataframe thead th {\n",
              "        text-align: right;\n",
              "    }\n",
              "</style>\n",
              "<table border=\"1\" class=\"dataframe\">\n",
              "  <thead>\n",
              "    <tr style=\"text-align: right;\">\n",
              "      <th></th>\n",
              "      <th>Temperature</th>\n",
              "      <th>Nausea_no</th>\n",
              "      <th>Nausea_yes</th>\n",
              "      <th>Lumbar pain_no</th>\n",
              "      <th>Lumbar pain_yes</th>\n",
              "      <th>Urine pushing_no</th>\n",
              "      <th>Urine pushing_yes</th>\n",
              "      <th>Micturition pains_no</th>\n",
              "      <th>Micturition pains_yes</th>\n",
              "      <th>Burning of urethra_no</th>\n",
              "      <th>Burning of urethra_yes</th>\n",
              "    </tr>\n",
              "  </thead>\n",
              "  <tbody>\n",
              "    <tr>\n",
              "      <th>0</th>\n",
              "      <td>35.5</td>\n",
              "      <td>1</td>\n",
              "      <td>0</td>\n",
              "      <td>0</td>\n",
              "      <td>1</td>\n",
              "      <td>1</td>\n",
              "      <td>0</td>\n",
              "      <td>1</td>\n",
              "      <td>0</td>\n",
              "      <td>1</td>\n",
              "      <td>0</td>\n",
              "    </tr>\n",
              "    <tr>\n",
              "      <th>1</th>\n",
              "      <td>35.9</td>\n",
              "      <td>1</td>\n",
              "      <td>0</td>\n",
              "      <td>1</td>\n",
              "      <td>0</td>\n",
              "      <td>0</td>\n",
              "      <td>1</td>\n",
              "      <td>0</td>\n",
              "      <td>1</td>\n",
              "      <td>0</td>\n",
              "      <td>1</td>\n",
              "    </tr>\n",
              "    <tr>\n",
              "      <th>2</th>\n",
              "      <td>35.9</td>\n",
              "      <td>1</td>\n",
              "      <td>0</td>\n",
              "      <td>0</td>\n",
              "      <td>1</td>\n",
              "      <td>1</td>\n",
              "      <td>0</td>\n",
              "      <td>1</td>\n",
              "      <td>0</td>\n",
              "      <td>1</td>\n",
              "      <td>0</td>\n",
              "    </tr>\n",
              "    <tr>\n",
              "      <th>3</th>\n",
              "      <td>36.0</td>\n",
              "      <td>1</td>\n",
              "      <td>0</td>\n",
              "      <td>1</td>\n",
              "      <td>0</td>\n",
              "      <td>0</td>\n",
              "      <td>1</td>\n",
              "      <td>0</td>\n",
              "      <td>1</td>\n",
              "      <td>0</td>\n",
              "      <td>1</td>\n",
              "    </tr>\n",
              "    <tr>\n",
              "      <th>4</th>\n",
              "      <td>36.0</td>\n",
              "      <td>1</td>\n",
              "      <td>0</td>\n",
              "      <td>0</td>\n",
              "      <td>1</td>\n",
              "      <td>1</td>\n",
              "      <td>0</td>\n",
              "      <td>1</td>\n",
              "      <td>0</td>\n",
              "      <td>1</td>\n",
              "      <td>0</td>\n",
              "    </tr>\n",
              "  </tbody>\n",
              "</table>\n",
              "</div>"
            ],
            "text/plain": [
              "   Temperature  Nausea_no  ...  Burning of urethra_no  Burning of urethra_yes\n",
              "0         35.5          1  ...                      1                       0\n",
              "1         35.9          1  ...                      0                       1\n",
              "2         35.9          1  ...                      1                       0\n",
              "3         36.0          1  ...                      0                       1\n",
              "4         36.0          1  ...                      1                       0\n",
              "\n",
              "[5 rows x 11 columns]"
            ]
          },
          "metadata": {
            "tags": []
          },
          "execution_count": 7
        }
      ]
    },
    {
      "cell_type": "markdown",
      "metadata": {
        "id": "ebLEHJspDt9s"
      },
      "source": [
        "**Normalizando os atributos contínuos**"
      ]
    },
    {
      "cell_type": "code",
      "metadata": {
        "id": "v-QNmh9pD2gw"
      },
      "source": [
        "mms = MinMaxScaler()\n",
        "mms.fit(new_df)\n",
        "data_transformed = mms.transform(new_df)"
      ],
      "execution_count": null,
      "outputs": []
    },
    {
      "cell_type": "markdown",
      "metadata": {
        "id": "NPiygqMqEFV-"
      },
      "source": [
        "**Aplicação do algoritmo k-means no conjunto de dados**"
      ]
    },
    {
      "cell_type": "code",
      "metadata": {
        "id": "MRGcVzEIEEyQ",
        "outputId": "ca2d7964-ed8b-45b7-ad30-0b6e1329f268",
        "colab": {
          "base_uri": "https://localhost:8080/",
          "height": 35
        }
      },
      "source": [
        "km = KMeans(n_clusters=2,random_state=0) \n",
        "km.fit(data_transformed)\n",
        "km.inertia_"
      ],
      "execution_count": null,
      "outputs": [
        {
          "output_type": "execute_result",
          "data": {
            "text/plain": [
              "203.1569641278262"
            ]
          },
          "metadata": {
            "tags": []
          },
          "execution_count": 9
        }
      ]
    },
    {
      "cell_type": "markdown",
      "metadata": {
        "id": "Qkf0tZpjEhGR"
      },
      "source": [
        "**Avaliação com índice de validação externo Adusted Rand Index (ARI)**"
      ]
    },
    {
      "cell_type": "code",
      "metadata": {
        "id": "YASNXwBkEiLW",
        "outputId": "02e6b627-a6ee-4667-d395-87640b16bacf",
        "colab": {
          "base_uri": "https://localhost:8080/",
          "height": 35
        }
      },
      "source": [
        "adjusted_rand_score(df['Nephritis of renal pelvis origin'], km.labels_)"
      ],
      "execution_count": null,
      "outputs": [
        {
          "output_type": "execute_result",
          "data": {
            "text/plain": [
              "0.4146539397920934"
            ]
          },
          "metadata": {
            "tags": []
          },
          "execution_count": 10
        }
      ]
    },
    {
      "cell_type": "markdown",
      "metadata": {
        "id": "toTIageoEwHp"
      },
      "source": [
        "## Parte 2 - Determinação do melhor número de grupos usando a soma quadrática das distâncias com índice interno (Método do \"cotovelo\")"
      ]
    },
    {
      "cell_type": "markdown",
      "metadata": {
        "id": "57karKlmE3Kx"
      },
      "source": [
        "**Lendo o conjunto de dados diagnosis.data com a função read.csv() e mostrando as 5 primeiras linhas com .head()**"
      ]
    },
    {
      "cell_type": "code",
      "metadata": {
        "id": "5_8_vFSj5eWY",
        "outputId": "f4b3b89e-b126-419d-e102-2b7050ddda52",
        "colab": {
          "base_uri": "https://localhost:8080/",
          "height": 241
        }
      },
      "source": [
        "#usamos o mesmo arquivo da parte 1\n",
        "\n",
        "df = pd.read_csv(\"diagnosis.data\",\n",
        "                 names=['Temperature', 'Nausea', 'Lumbar pain', 'Urine pushing', 'Micturition pains','Burning of urethra', 'Inflammation of urinary bladder', 'Nephritis of renal pelvis origin'],\n",
        "                 encoding='utf-16')\n",
        "df.head() \n"
      ],
      "execution_count": null,
      "outputs": [
        {
          "output_type": "execute_result",
          "data": {
            "text/html": [
              "<div>\n",
              "<style scoped>\n",
              "    .dataframe tbody tr th:only-of-type {\n",
              "        vertical-align: middle;\n",
              "    }\n",
              "\n",
              "    .dataframe tbody tr th {\n",
              "        vertical-align: top;\n",
              "    }\n",
              "\n",
              "    .dataframe thead th {\n",
              "        text-align: right;\n",
              "    }\n",
              "</style>\n",
              "<table border=\"1\" class=\"dataframe\">\n",
              "  <thead>\n",
              "    <tr style=\"text-align: right;\">\n",
              "      <th></th>\n",
              "      <th>Temperature</th>\n",
              "      <th>Nausea</th>\n",
              "      <th>Lumbar pain</th>\n",
              "      <th>Urine pushing</th>\n",
              "      <th>Micturition pains</th>\n",
              "      <th>Burning of urethra</th>\n",
              "      <th>Inflammation of urinary bladder</th>\n",
              "      <th>Nephritis of renal pelvis origin</th>\n",
              "    </tr>\n",
              "  </thead>\n",
              "  <tbody>\n",
              "    <tr>\n",
              "      <th>0</th>\n",
              "      <td>35.5</td>\n",
              "      <td>no</td>\n",
              "      <td>yes</td>\n",
              "      <td>no</td>\n",
              "      <td>no</td>\n",
              "      <td>no</td>\n",
              "      <td>no</td>\n",
              "      <td>no</td>\n",
              "    </tr>\n",
              "    <tr>\n",
              "      <th>1</th>\n",
              "      <td>35.9</td>\n",
              "      <td>no</td>\n",
              "      <td>no</td>\n",
              "      <td>yes</td>\n",
              "      <td>yes</td>\n",
              "      <td>yes</td>\n",
              "      <td>yes</td>\n",
              "      <td>no</td>\n",
              "    </tr>\n",
              "    <tr>\n",
              "      <th>2</th>\n",
              "      <td>35.9</td>\n",
              "      <td>no</td>\n",
              "      <td>yes</td>\n",
              "      <td>no</td>\n",
              "      <td>no</td>\n",
              "      <td>no</td>\n",
              "      <td>no</td>\n",
              "      <td>no</td>\n",
              "    </tr>\n",
              "    <tr>\n",
              "      <th>3</th>\n",
              "      <td>36.0</td>\n",
              "      <td>no</td>\n",
              "      <td>no</td>\n",
              "      <td>yes</td>\n",
              "      <td>yes</td>\n",
              "      <td>yes</td>\n",
              "      <td>yes</td>\n",
              "      <td>no</td>\n",
              "    </tr>\n",
              "    <tr>\n",
              "      <th>4</th>\n",
              "      <td>36.0</td>\n",
              "      <td>no</td>\n",
              "      <td>yes</td>\n",
              "      <td>no</td>\n",
              "      <td>no</td>\n",
              "      <td>no</td>\n",
              "      <td>no</td>\n",
              "      <td>no</td>\n",
              "    </tr>\n",
              "  </tbody>\n",
              "</table>\n",
              "</div>"
            ],
            "text/plain": [
              "   Temperature  ... Nephritis of renal pelvis origin\n",
              "0         35.5  ...                               no\n",
              "1         35.9  ...                               no\n",
              "2         35.9  ...                               no\n",
              "3         36.0  ...                               no\n",
              "4         36.0  ...                               no\n",
              "\n",
              "[5 rows x 8 columns]"
            ]
          },
          "metadata": {
            "tags": []
          },
          "execution_count": 11
        }
      ]
    },
    {
      "cell_type": "markdown",
      "metadata": {
        "id": "yMZ-RSKlFF1x"
      },
      "source": [
        "**Criando outra tabela de dados retirando as colunas refente as classes**"
      ]
    },
    {
      "cell_type": "code",
      "metadata": {
        "id": "2KT_NlAA-1zK",
        "outputId": "81c20f96-ef75-4ee2-bf36-4c0aee62d0a7",
        "colab": {
          "base_uri": "https://localhost:8080/",
          "height": 424
        }
      },
      "source": [
        "new_df = df.drop(['Nephritis of renal pelvis origin', 'Inflammation of urinary bladder'], axis=1)\n",
        "new_df"
      ],
      "execution_count": null,
      "outputs": [
        {
          "output_type": "execute_result",
          "data": {
            "text/html": [
              "<div>\n",
              "<style scoped>\n",
              "    .dataframe tbody tr th:only-of-type {\n",
              "        vertical-align: middle;\n",
              "    }\n",
              "\n",
              "    .dataframe tbody tr th {\n",
              "        vertical-align: top;\n",
              "    }\n",
              "\n",
              "    .dataframe thead th {\n",
              "        text-align: right;\n",
              "    }\n",
              "</style>\n",
              "<table border=\"1\" class=\"dataframe\">\n",
              "  <thead>\n",
              "    <tr style=\"text-align: right;\">\n",
              "      <th></th>\n",
              "      <th>Temperature</th>\n",
              "      <th>Nausea</th>\n",
              "      <th>Lumbar pain</th>\n",
              "      <th>Urine pushing</th>\n",
              "      <th>Micturition pains</th>\n",
              "      <th>Burning of urethra</th>\n",
              "    </tr>\n",
              "  </thead>\n",
              "  <tbody>\n",
              "    <tr>\n",
              "      <th>0</th>\n",
              "      <td>35.5</td>\n",
              "      <td>no</td>\n",
              "      <td>yes</td>\n",
              "      <td>no</td>\n",
              "      <td>no</td>\n",
              "      <td>no</td>\n",
              "    </tr>\n",
              "    <tr>\n",
              "      <th>1</th>\n",
              "      <td>35.9</td>\n",
              "      <td>no</td>\n",
              "      <td>no</td>\n",
              "      <td>yes</td>\n",
              "      <td>yes</td>\n",
              "      <td>yes</td>\n",
              "    </tr>\n",
              "    <tr>\n",
              "      <th>2</th>\n",
              "      <td>35.9</td>\n",
              "      <td>no</td>\n",
              "      <td>yes</td>\n",
              "      <td>no</td>\n",
              "      <td>no</td>\n",
              "      <td>no</td>\n",
              "    </tr>\n",
              "    <tr>\n",
              "      <th>3</th>\n",
              "      <td>36.0</td>\n",
              "      <td>no</td>\n",
              "      <td>no</td>\n",
              "      <td>yes</td>\n",
              "      <td>yes</td>\n",
              "      <td>yes</td>\n",
              "    </tr>\n",
              "    <tr>\n",
              "      <th>4</th>\n",
              "      <td>36.0</td>\n",
              "      <td>no</td>\n",
              "      <td>yes</td>\n",
              "      <td>no</td>\n",
              "      <td>no</td>\n",
              "      <td>no</td>\n",
              "    </tr>\n",
              "    <tr>\n",
              "      <th>...</th>\n",
              "      <td>...</td>\n",
              "      <td>...</td>\n",
              "      <td>...</td>\n",
              "      <td>...</td>\n",
              "      <td>...</td>\n",
              "      <td>...</td>\n",
              "    </tr>\n",
              "    <tr>\n",
              "      <th>115</th>\n",
              "      <td>41.4</td>\n",
              "      <td>no</td>\n",
              "      <td>yes</td>\n",
              "      <td>yes</td>\n",
              "      <td>no</td>\n",
              "      <td>yes</td>\n",
              "    </tr>\n",
              "    <tr>\n",
              "      <th>116</th>\n",
              "      <td>41.5</td>\n",
              "      <td>no</td>\n",
              "      <td>no</td>\n",
              "      <td>no</td>\n",
              "      <td>no</td>\n",
              "      <td>no</td>\n",
              "    </tr>\n",
              "    <tr>\n",
              "      <th>117</th>\n",
              "      <td>41.5</td>\n",
              "      <td>yes</td>\n",
              "      <td>yes</td>\n",
              "      <td>no</td>\n",
              "      <td>yes</td>\n",
              "      <td>no</td>\n",
              "    </tr>\n",
              "    <tr>\n",
              "      <th>118</th>\n",
              "      <td>41.5</td>\n",
              "      <td>no</td>\n",
              "      <td>yes</td>\n",
              "      <td>yes</td>\n",
              "      <td>no</td>\n",
              "      <td>yes</td>\n",
              "    </tr>\n",
              "    <tr>\n",
              "      <th>119</th>\n",
              "      <td>41.5</td>\n",
              "      <td>no</td>\n",
              "      <td>yes</td>\n",
              "      <td>yes</td>\n",
              "      <td>no</td>\n",
              "      <td>yes</td>\n",
              "    </tr>\n",
              "  </tbody>\n",
              "</table>\n",
              "<p>120 rows × 6 columns</p>\n",
              "</div>"
            ],
            "text/plain": [
              "     Temperature Nausea  ... Micturition pains Burning of urethra\n",
              "0           35.5     no  ...                no                 no\n",
              "1           35.9     no  ...               yes                yes\n",
              "2           35.9     no  ...                no                 no\n",
              "3           36.0     no  ...               yes                yes\n",
              "4           36.0     no  ...                no                 no\n",
              "..           ...    ...  ...               ...                ...\n",
              "115         41.4     no  ...                no                yes\n",
              "116         41.5     no  ...                no                 no\n",
              "117         41.5    yes  ...               yes                 no\n",
              "118         41.5     no  ...                no                yes\n",
              "119         41.5     no  ...                no                yes\n",
              "\n",
              "[120 rows x 6 columns]"
            ]
          },
          "metadata": {
            "tags": []
          },
          "execution_count": 12
        }
      ]
    },
    {
      "cell_type": "markdown",
      "metadata": {
        "id": "hJWl6DXvFQzm"
      },
      "source": [
        "**Transformando atributos nominais**"
      ]
    },
    {
      "cell_type": "code",
      "metadata": {
        "id": "0AIOACnFQqyT"
      },
      "source": [
        "# separando em duas listas pra poder transformar os atributos nominais\n",
        "categorical_features= ['Nausea', 'Lumbar pain', 'Urine pushing', 'Micturition pains','Burning of urethra']\n",
        "continuous_features= ['Temperature']"
      ],
      "execution_count": null,
      "outputs": []
    },
    {
      "cell_type": "code",
      "metadata": {
        "id": "wZ-74Df8RpBL",
        "outputId": "49d3df99-e13e-421c-9df3-f84dbdc0708a",
        "colab": {
          "base_uri": "https://localhost:8080/",
          "height": 244
        }
      },
      "source": [
        "#transformando os atributos nominais em binario\n",
        "for col in categorical_features:\n",
        "  dummies= pd.get_dummies(new_df[col], prefix=col)\n",
        "  new_df = pd.concat([new_df, dummies], axis=1)\n",
        "  new_df.drop(col, axis=1, inplace=True)\n",
        "new_df.head()"
      ],
      "execution_count": null,
      "outputs": [
        {
          "output_type": "execute_result",
          "data": {
            "text/html": [
              "<div>\n",
              "<style scoped>\n",
              "    .dataframe tbody tr th:only-of-type {\n",
              "        vertical-align: middle;\n",
              "    }\n",
              "\n",
              "    .dataframe tbody tr th {\n",
              "        vertical-align: top;\n",
              "    }\n",
              "\n",
              "    .dataframe thead th {\n",
              "        text-align: right;\n",
              "    }\n",
              "</style>\n",
              "<table border=\"1\" class=\"dataframe\">\n",
              "  <thead>\n",
              "    <tr style=\"text-align: right;\">\n",
              "      <th></th>\n",
              "      <th>Temperature</th>\n",
              "      <th>Nausea_no</th>\n",
              "      <th>Nausea_yes</th>\n",
              "      <th>Lumbar pain_no</th>\n",
              "      <th>Lumbar pain_yes</th>\n",
              "      <th>Urine pushing_no</th>\n",
              "      <th>Urine pushing_yes</th>\n",
              "      <th>Micturition pains_no</th>\n",
              "      <th>Micturition pains_yes</th>\n",
              "      <th>Burning of urethra_no</th>\n",
              "      <th>Burning of urethra_yes</th>\n",
              "    </tr>\n",
              "  </thead>\n",
              "  <tbody>\n",
              "    <tr>\n",
              "      <th>0</th>\n",
              "      <td>35.5</td>\n",
              "      <td>1</td>\n",
              "      <td>0</td>\n",
              "      <td>0</td>\n",
              "      <td>1</td>\n",
              "      <td>1</td>\n",
              "      <td>0</td>\n",
              "      <td>1</td>\n",
              "      <td>0</td>\n",
              "      <td>1</td>\n",
              "      <td>0</td>\n",
              "    </tr>\n",
              "    <tr>\n",
              "      <th>1</th>\n",
              "      <td>35.9</td>\n",
              "      <td>1</td>\n",
              "      <td>0</td>\n",
              "      <td>1</td>\n",
              "      <td>0</td>\n",
              "      <td>0</td>\n",
              "      <td>1</td>\n",
              "      <td>0</td>\n",
              "      <td>1</td>\n",
              "      <td>0</td>\n",
              "      <td>1</td>\n",
              "    </tr>\n",
              "    <tr>\n",
              "      <th>2</th>\n",
              "      <td>35.9</td>\n",
              "      <td>1</td>\n",
              "      <td>0</td>\n",
              "      <td>0</td>\n",
              "      <td>1</td>\n",
              "      <td>1</td>\n",
              "      <td>0</td>\n",
              "      <td>1</td>\n",
              "      <td>0</td>\n",
              "      <td>1</td>\n",
              "      <td>0</td>\n",
              "    </tr>\n",
              "    <tr>\n",
              "      <th>3</th>\n",
              "      <td>36.0</td>\n",
              "      <td>1</td>\n",
              "      <td>0</td>\n",
              "      <td>1</td>\n",
              "      <td>0</td>\n",
              "      <td>0</td>\n",
              "      <td>1</td>\n",
              "      <td>0</td>\n",
              "      <td>1</td>\n",
              "      <td>0</td>\n",
              "      <td>1</td>\n",
              "    </tr>\n",
              "    <tr>\n",
              "      <th>4</th>\n",
              "      <td>36.0</td>\n",
              "      <td>1</td>\n",
              "      <td>0</td>\n",
              "      <td>0</td>\n",
              "      <td>1</td>\n",
              "      <td>1</td>\n",
              "      <td>0</td>\n",
              "      <td>1</td>\n",
              "      <td>0</td>\n",
              "      <td>1</td>\n",
              "      <td>0</td>\n",
              "    </tr>\n",
              "  </tbody>\n",
              "</table>\n",
              "</div>"
            ],
            "text/plain": [
              "   Temperature  Nausea_no  ...  Burning of urethra_no  Burning of urethra_yes\n",
              "0         35.5          1  ...                      1                       0\n",
              "1         35.9          1  ...                      0                       1\n",
              "2         35.9          1  ...                      1                       0\n",
              "3         36.0          1  ...                      0                       1\n",
              "4         36.0          1  ...                      1                       0\n",
              "\n",
              "[5 rows x 11 columns]"
            ]
          },
          "metadata": {
            "tags": []
          },
          "execution_count": 14
        }
      ]
    },
    {
      "cell_type": "code",
      "metadata": {
        "id": "5EhTrLtNPsfi"
      },
      "source": [
        "#escalar os atributos contínuos\n",
        "\n",
        "mms = MinMaxScaler()\n",
        "mms.fit(new_df)\n",
        "data_transformed = mms.transform(new_df)"
      ],
      "execution_count": null,
      "outputs": []
    },
    {
      "cell_type": "markdown",
      "metadata": {
        "id": "5S68wZojF2K5"
      },
      "source": [
        "**Definindo um intervalo de valores para número de grupos de (2,15)**"
      ]
    },
    {
      "cell_type": "code",
      "metadata": {
        "id": "8oKUYwv5HF8q"
      },
      "source": [
        "K = range(2,15)"
      ],
      "execution_count": null,
      "outputs": []
    },
    {
      "cell_type": "markdown",
      "metadata": {
        "id": "fEVyCbtuHKpn"
      },
      "source": [
        "**Aplicando o algoritmo k-means e coletado o valor do índice soma quadrática das distâncias usando .inertia_**\n",
        "\n"
      ]
    },
    {
      "cell_type": "code",
      "metadata": {
        "id": "JoL8jbvQUFOR"
      },
      "source": [
        "Sum_of_squared_distances = []\n",
        "\n",
        "for n in K:\n",
        "  km = KMeans(n_clusters=n)\n",
        "  km = km.fit(data_transformed)\n",
        "  Sum_of_squared_distances.append(km.inertia_)"
      ],
      "execution_count": null,
      "outputs": []
    },
    {
      "cell_type": "markdown",
      "metadata": {
        "id": "x4gb-AMvGhU2"
      },
      "source": [
        "**Plotando o gráfico dos índices encontrados para cada número de grupos e determinando qual é o melhor\n",
        "de acordo com o método do cotovelo**"
      ]
    },
    {
      "cell_type": "code",
      "metadata": {
        "id": "AKYrJiHfdoZv",
        "outputId": "0f1e9405-9151-4d8e-b843-ce17912d8d1d",
        "colab": {
          "base_uri": "https://localhost:8080/",
          "height": 295
        }
      },
      "source": [
        "plt.plot(K, Sum_of_squared_distances, 'bx-')\n",
        "plt.xlabel('k')\n",
        "plt.ylabel('Soma dos quadrados das distâncias')\n",
        "plt.title('Método do Cotovelo para encontrar melhor valor de k')\n",
        "plt.show()"
      ],
      "execution_count": null,
      "outputs": [
        {
          "output_type": "display_data",
          "data": {
            "image/png": "[encoded data removed]",
            "text/plain": [
              "<Figure size 432x288 with 1 Axes>"
            ]
          },
          "metadata": {
            "tags": [],
            "needs_background": "light"
          }
        }
      ]
    },
    {
      "cell_type": "markdown",
      "metadata": {
        "id": "9yHz9K-ZP40z"
      },
      "source": [
        "**Portando o melhor valor de k é 8**\n",
        "\n",
        "\n"
      ]
    }
  ]
}
